{
 "cells": [
  {
   "cell_type": "markdown",
   "metadata": {},
   "source": [
    "![image.jpeg](PlayStore.jpeg)"
   ]
  },
  {
   "cell_type": "markdown",
   "metadata": {},
   "source": [
    "# **Data Cleaning and Analysis Activities**"
   ]
  },
  {
   "cell_type": "code",
   "execution_count": 10,
   "metadata": {},
   "outputs": [],
   "source": [
    "import pandas as pd\n",
    "import matplotlib.pyplot as plt\n",
    "import seaborn as sns"
   ]
  },
  {
   "cell_type": "markdown",
   "metadata": {},
   "source": [
    "**`Note:` it's better to make a copy from the dataframe and test on it before making any changes in the orignal one**"
   ]
  },
  {
   "cell_type": "markdown",
   "metadata": {},
   "source": [
    "### 1.Which of the following column(s) has/have null values?\n",
    "\n",
    "Select the columns that you have identified having null/missing values."
   ]
  },
  {
   "cell_type": "code",
   "execution_count": 5,
   "metadata": {},
   "outputs": [
    {
     "data": {
      "text/html": [
       "<div>\n",
       "<style scoped>\n",
       "    .dataframe tbody tr th:only-of-type {\n",
       "        vertical-align: middle;\n",
       "    }\n",
       "\n",
       "    .dataframe tbody tr th {\n",
       "        vertical-align: top;\n",
       "    }\n",
       "\n",
       "    .dataframe thead th {\n",
       "        text-align: right;\n",
       "    }\n",
       "</style>\n",
       "<table border=\"1\" class=\"dataframe\">\n",
       "  <thead>\n",
       "    <tr style=\"text-align: right;\">\n",
       "      <th></th>\n",
       "      <th>App</th>\n",
       "      <th>Category</th>\n",
       "      <th>Rating</th>\n",
       "      <th>Reviews</th>\n",
       "      <th>Size</th>\n",
       "      <th>Installs</th>\n",
       "      <th>Type</th>\n",
       "      <th>Price</th>\n",
       "      <th>Content Rating</th>\n",
       "      <th>Genres</th>\n",
       "      <th>Last Updated</th>\n",
       "      <th>Current Ver</th>\n",
       "      <th>Android Ver</th>\n",
       "    </tr>\n",
       "  </thead>\n",
       "  <tbody>\n",
       "    <tr>\n",
       "      <th>0</th>\n",
       "      <td>Photo Editor &amp; Candy Camera &amp; Grid &amp; ScrapBook</td>\n",
       "      <td>ART_AND_DESIGN</td>\n",
       "      <td>4.1</td>\n",
       "      <td>159</td>\n",
       "      <td>19M</td>\n",
       "      <td>10,000+</td>\n",
       "      <td>Free</td>\n",
       "      <td>0</td>\n",
       "      <td>Everyone</td>\n",
       "      <td>Art &amp; Design</td>\n",
       "      <td>January 7, 2018</td>\n",
       "      <td>1.0.0</td>\n",
       "      <td>4.0.3 and up</td>\n",
       "    </tr>\n",
       "    <tr>\n",
       "      <th>1</th>\n",
       "      <td>Coloring book moana</td>\n",
       "      <td>ART_AND_DESIGN</td>\n",
       "      <td>3.9</td>\n",
       "      <td>967</td>\n",
       "      <td>14M</td>\n",
       "      <td>500,000+</td>\n",
       "      <td>Free</td>\n",
       "      <td>0</td>\n",
       "      <td>Everyone</td>\n",
       "      <td>Art &amp; Design;Pretend Play</td>\n",
       "      <td>January 15, 2018</td>\n",
       "      <td>2.0.0</td>\n",
       "      <td>4.0.3 and up</td>\n",
       "    </tr>\n",
       "    <tr>\n",
       "      <th>2</th>\n",
       "      <td>U Launcher Lite – FREE Live Cool Themes, Hide ...</td>\n",
       "      <td>ART_AND_DESIGN</td>\n",
       "      <td>4.7</td>\n",
       "      <td>87510</td>\n",
       "      <td>8.7M</td>\n",
       "      <td>5,000,000+</td>\n",
       "      <td>Free</td>\n",
       "      <td>0</td>\n",
       "      <td>Everyone</td>\n",
       "      <td>Art &amp; Design</td>\n",
       "      <td>August 1, 2018</td>\n",
       "      <td>1.2.4</td>\n",
       "      <td>4.0.3 and up</td>\n",
       "    </tr>\n",
       "    <tr>\n",
       "      <th>3</th>\n",
       "      <td>Sketch - Draw &amp; Paint</td>\n",
       "      <td>ART_AND_DESIGN</td>\n",
       "      <td>4.5</td>\n",
       "      <td>215644</td>\n",
       "      <td>25M</td>\n",
       "      <td>50,000,000+</td>\n",
       "      <td>Free</td>\n",
       "      <td>0</td>\n",
       "      <td>Teen</td>\n",
       "      <td>Art &amp; Design</td>\n",
       "      <td>June 8, 2018</td>\n",
       "      <td>Varies with device</td>\n",
       "      <td>4.2 and up</td>\n",
       "    </tr>\n",
       "    <tr>\n",
       "      <th>4</th>\n",
       "      <td>Pixel Draw - Number Art Coloring Book</td>\n",
       "      <td>ART_AND_DESIGN</td>\n",
       "      <td>4.3</td>\n",
       "      <td>967</td>\n",
       "      <td>2.8M</td>\n",
       "      <td>100,000+</td>\n",
       "      <td>Free</td>\n",
       "      <td>0</td>\n",
       "      <td>Everyone</td>\n",
       "      <td>Art &amp; Design;Creativity</td>\n",
       "      <td>June 20, 2018</td>\n",
       "      <td>1.1</td>\n",
       "      <td>4.4 and up</td>\n",
       "    </tr>\n",
       "    <tr>\n",
       "      <th>...</th>\n",
       "      <td>...</td>\n",
       "      <td>...</td>\n",
       "      <td>...</td>\n",
       "      <td>...</td>\n",
       "      <td>...</td>\n",
       "      <td>...</td>\n",
       "      <td>...</td>\n",
       "      <td>...</td>\n",
       "      <td>...</td>\n",
       "      <td>...</td>\n",
       "      <td>...</td>\n",
       "      <td>...</td>\n",
       "      <td>...</td>\n",
       "    </tr>\n",
       "    <tr>\n",
       "      <th>10836</th>\n",
       "      <td>Sya9a Maroc - FR</td>\n",
       "      <td>FAMILY</td>\n",
       "      <td>4.5</td>\n",
       "      <td>38</td>\n",
       "      <td>53M</td>\n",
       "      <td>5,000+</td>\n",
       "      <td>Free</td>\n",
       "      <td>0</td>\n",
       "      <td>Everyone</td>\n",
       "      <td>Education</td>\n",
       "      <td>July 25, 2017</td>\n",
       "      <td>1.48</td>\n",
       "      <td>4.1 and up</td>\n",
       "    </tr>\n",
       "    <tr>\n",
       "      <th>10837</th>\n",
       "      <td>Fr. Mike Schmitz Audio Teachings</td>\n",
       "      <td>FAMILY</td>\n",
       "      <td>5.0</td>\n",
       "      <td>4</td>\n",
       "      <td>3.6M</td>\n",
       "      <td>100+</td>\n",
       "      <td>Free</td>\n",
       "      <td>0</td>\n",
       "      <td>Everyone</td>\n",
       "      <td>Education</td>\n",
       "      <td>July 6, 2018</td>\n",
       "      <td>1.0</td>\n",
       "      <td>4.1 and up</td>\n",
       "    </tr>\n",
       "    <tr>\n",
       "      <th>10838</th>\n",
       "      <td>Parkinson Exercices FR</td>\n",
       "      <td>MEDICAL</td>\n",
       "      <td>NaN</td>\n",
       "      <td>3</td>\n",
       "      <td>9.5M</td>\n",
       "      <td>1,000+</td>\n",
       "      <td>Free</td>\n",
       "      <td>0</td>\n",
       "      <td>Everyone</td>\n",
       "      <td>Medical</td>\n",
       "      <td>January 20, 2017</td>\n",
       "      <td>1.0</td>\n",
       "      <td>2.2 and up</td>\n",
       "    </tr>\n",
       "    <tr>\n",
       "      <th>10839</th>\n",
       "      <td>The SCP Foundation DB fr nn5n</td>\n",
       "      <td>BOOKS_AND_REFERENCE</td>\n",
       "      <td>4.5</td>\n",
       "      <td>114</td>\n",
       "      <td>Varies with device</td>\n",
       "      <td>1,000+</td>\n",
       "      <td>Free</td>\n",
       "      <td>0</td>\n",
       "      <td>Mature 17+</td>\n",
       "      <td>Books &amp; Reference</td>\n",
       "      <td>January 19, 2015</td>\n",
       "      <td>Varies with device</td>\n",
       "      <td>Varies with device</td>\n",
       "    </tr>\n",
       "    <tr>\n",
       "      <th>10840</th>\n",
       "      <td>iHoroscope - 2018 Daily Horoscope &amp; Astrology</td>\n",
       "      <td>LIFESTYLE</td>\n",
       "      <td>4.5</td>\n",
       "      <td>398307</td>\n",
       "      <td>19M</td>\n",
       "      <td>10,000,000+</td>\n",
       "      <td>Free</td>\n",
       "      <td>0</td>\n",
       "      <td>Everyone</td>\n",
       "      <td>Lifestyle</td>\n",
       "      <td>July 25, 2018</td>\n",
       "      <td>Varies with device</td>\n",
       "      <td>Varies with device</td>\n",
       "    </tr>\n",
       "  </tbody>\n",
       "</table>\n",
       "<p>10841 rows × 13 columns</p>\n",
       "</div>"
      ],
      "text/plain": [
       "                                                     App             Category  \\\n",
       "0         Photo Editor & Candy Camera & Grid & ScrapBook       ART_AND_DESIGN   \n",
       "1                                    Coloring book moana       ART_AND_DESIGN   \n",
       "2      U Launcher Lite – FREE Live Cool Themes, Hide ...       ART_AND_DESIGN   \n",
       "3                                  Sketch - Draw & Paint       ART_AND_DESIGN   \n",
       "4                  Pixel Draw - Number Art Coloring Book       ART_AND_DESIGN   \n",
       "...                                                  ...                  ...   \n",
       "10836                                   Sya9a Maroc - FR               FAMILY   \n",
       "10837                   Fr. Mike Schmitz Audio Teachings               FAMILY   \n",
       "10838                             Parkinson Exercices FR              MEDICAL   \n",
       "10839                      The SCP Foundation DB fr nn5n  BOOKS_AND_REFERENCE   \n",
       "10840      iHoroscope - 2018 Daily Horoscope & Astrology            LIFESTYLE   \n",
       "\n",
       "       Rating Reviews                Size     Installs  Type Price  \\\n",
       "0         4.1     159                 19M      10,000+  Free     0   \n",
       "1         3.9     967                 14M     500,000+  Free     0   \n",
       "2         4.7   87510                8.7M   5,000,000+  Free     0   \n",
       "3         4.5  215644                 25M  50,000,000+  Free     0   \n",
       "4         4.3     967                2.8M     100,000+  Free     0   \n",
       "...       ...     ...                 ...          ...   ...   ...   \n",
       "10836     4.5      38                 53M       5,000+  Free     0   \n",
       "10837     5.0       4                3.6M         100+  Free     0   \n",
       "10838     NaN       3                9.5M       1,000+  Free     0   \n",
       "10839     4.5     114  Varies with device       1,000+  Free     0   \n",
       "10840     4.5  398307                 19M  10,000,000+  Free     0   \n",
       "\n",
       "      Content Rating                     Genres      Last Updated  \\\n",
       "0           Everyone               Art & Design   January 7, 2018   \n",
       "1           Everyone  Art & Design;Pretend Play  January 15, 2018   \n",
       "2           Everyone               Art & Design    August 1, 2018   \n",
       "3               Teen               Art & Design      June 8, 2018   \n",
       "4           Everyone    Art & Design;Creativity     June 20, 2018   \n",
       "...              ...                        ...               ...   \n",
       "10836       Everyone                  Education     July 25, 2017   \n",
       "10837       Everyone                  Education      July 6, 2018   \n",
       "10838       Everyone                    Medical  January 20, 2017   \n",
       "10839     Mature 17+          Books & Reference  January 19, 2015   \n",
       "10840       Everyone                  Lifestyle     July 25, 2018   \n",
       "\n",
       "              Current Ver         Android Ver  \n",
       "0                   1.0.0        4.0.3 and up  \n",
       "1                   2.0.0        4.0.3 and up  \n",
       "2                   1.2.4        4.0.3 and up  \n",
       "3      Varies with device          4.2 and up  \n",
       "4                     1.1          4.4 and up  \n",
       "...                   ...                 ...  \n",
       "10836                1.48          4.1 and up  \n",
       "10837                 1.0          4.1 and up  \n",
       "10838                 1.0          2.2 and up  \n",
       "10839  Varies with device  Varies with device  \n",
       "10840  Varies with device  Varies with device  \n",
       "\n",
       "[10841 rows x 13 columns]"
      ]
     },
     "execution_count": 5,
     "metadata": {},
     "output_type": "execute_result"
    }
   ],
   "source": [
    "df = pd.read_csv(\"googleplaystore.csv\")\n",
    "df"
   ]
  },
  {
   "cell_type": "code",
   "execution_count": 6,
   "metadata": {},
   "outputs": [
    {
     "name": "stdout",
     "output_type": "stream",
     "text": [
      "<class 'pandas.core.frame.DataFrame'>\n",
      "RangeIndex: 10841 entries, 0 to 10840\n",
      "Data columns (total 13 columns):\n",
      " #   Column          Non-Null Count  Dtype  \n",
      "---  ------          --------------  -----  \n",
      " 0   App             10841 non-null  object \n",
      " 1   Category        10841 non-null  object \n",
      " 2   Rating          9367 non-null   float64\n",
      " 3   Reviews         10841 non-null  object \n",
      " 4   Size            10841 non-null  object \n",
      " 5   Installs        10841 non-null  object \n",
      " 6   Type            10840 non-null  object \n",
      " 7   Price           10841 non-null  object \n",
      " 8   Content Rating  10840 non-null  object \n",
      " 9   Genres          10841 non-null  object \n",
      " 10  Last Updated    10841 non-null  object \n",
      " 11  Current Ver     10833 non-null  object \n",
      " 12  Android Ver     10838 non-null  object \n",
      "dtypes: float64(1), object(12)\n",
      "memory usage: 1.1+ MB\n"
     ]
    }
   ],
   "source": [
    "df.info()\n"
   ]
  },
  {
   "cell_type": "code",
   "execution_count": null,
   "metadata": {},
   "outputs": [
    {
     "name": "stdout",
     "output_type": "stream",
     "text": [
      "Rating            1474\n",
      "Type                 1\n",
      "Content Rating       1\n",
      "Current Ver          8\n",
      "Android Ver          3\n",
      "dtype: int64\n"
     ]
    }
   ],
   "source": [
    "missingVal = df.isna().sum()\n",
    "print(missingVal[missingVal > 0])\n",
    " # columns with null values and number of null values in each columns"
   ]
  },
  {
   "cell_type": "markdown",
   "metadata": {},
   "source": [
    "### 2. Clean the Rating Column and Other Columns Containing Null Values\n",
    "\n",
    "**Steps:**\n",
    "\n",
    "0. Try plotting a histogram and a boxplot for this column to understand the issue\n",
    "1. Remove invalid values from the Rating column (set them as NaN).\n",
    "2. Fill null values in the Rating column using the mean().\n",
    "3. Clean any other non-numerical columns by dropping the rows containing null values.\n",
    "4. Perform the modifications \"in place\", modifying `df`. If you make a mistake, re-load the data.\n",
    "\n",
    "**Details:**\n",
    "- Replace all ratings not in the range of 0 to 5 with NaN.\n",
    "- Drop rows with null values in other columns."
   ]
  },
  {
   "cell_type": "code",
   "execution_count": 11,
   "metadata": {},
   "outputs": [
    {
     "name": "stdout",
     "output_type": "stream",
     "text": [
      "['Solarize_Light2', '_classic_test_patch', '_mpl-gallery', '_mpl-gallery-nogrid', 'bmh', 'classic', 'dark_background', 'fast', 'fivethirtyeight', 'ggplot', 'grayscale', 'petroff10', 'seaborn-v0_8', 'seaborn-v0_8-bright', 'seaborn-v0_8-colorblind', 'seaborn-v0_8-dark', 'seaborn-v0_8-dark-palette', 'seaborn-v0_8-darkgrid', 'seaborn-v0_8-deep', 'seaborn-v0_8-muted', 'seaborn-v0_8-notebook', 'seaborn-v0_8-paper', 'seaborn-v0_8-pastel', 'seaborn-v0_8-poster', 'seaborn-v0_8-talk', 'seaborn-v0_8-ticks', 'seaborn-v0_8-white', 'seaborn-v0_8-whitegrid', 'tableau-colorblind10']\n"
     ]
    }
   ],
   "source": [
    "print(plt.style.available)\n",
    "plt.style.use('classic')"
   ]
  },
  {
   "cell_type": "code",
   "execution_count": null,
   "metadata": {},
   "outputs": [
    {
     "data": {
      "image/png": "[encoded data removed]",
      "text/plain": [
       "<Figure size 960x400 with 1 Axes>"
      ]
     },
     "metadata": {},
     "output_type": "display_data"
    }
   ],
   "source": [
    "plt.figure(figsize=(12, 5))\n",
    "plt.subplot(1, 2, 1)\n",
    "sns.histplot(df['Rating'], bins=30, kde=True)\n",
    "plt.title(\"Histogram of Ratings\")\n",
    "plt.show()"
   ]
  },
  {
   "cell_type": "code",
   "execution_count": 20,
   "metadata": {},
   "outputs": [
    {
     "data": {
      "image/png": "[encoded data removed]",
      "text/plain": [
       "<Figure size 640x480 with 1 Axes>"
      ]
     },
     "metadata": {},
     "output_type": "display_data"
    }
   ],
   "source": [
    "\n",
    "plt.subplot(1, 2, 2)\n",
    "sns.boxplot(x=df['Rating'])\n",
    "plt.title(\"Boxplot of Ratings\")\n",
    "plt.show()"
   ]
  },
  {
   "cell_type": "code",
   "execution_count": 22,
   "metadata": {},
   "outputs": [],
   "source": [
    "# clean Ratings column\n",
    "df.loc[(df['Rating'] < 0) | (df['Rating'] > 5), 'Rating'] = None"
   ]
  },
  {
   "cell_type": "code",
   "execution_count": 25,
   "metadata": {},
   "outputs": [
    {
     "name": "stderr",
     "output_type": "stream",
     "text": [
      "C:\\Users\\Basmala\\AppData\\Local\\Temp\\ipykernel_15416\\1343472025.py:1: FutureWarning: A value is trying to be set on a copy of a DataFrame or Series through chained assignment using an inplace method.\n",
      "The behavior will change in pandas 3.0. This inplace method will never work because the intermediate object on which we are setting values always behaves as a copy.\n",
      "\n",
      "For example, when doing 'df[col].method(value, inplace=True)', try using 'df.method({col: value}, inplace=True)' or df[col] = df[col].method(value) instead, to perform the operation inplace on the original object.\n",
      "\n",
      "\n",
      "  df['Rating'].fillna(df['Rating'].mean(), inplace=True)\n"
     ]
    }
   ],
   "source": [
    "df['Rating'].fillna(df['Rating'].mean(), inplace=True)\n"
   ]
  },
  {
   "cell_type": "code",
   "execution_count": 26,
   "metadata": {},
   "outputs": [],
   "source": [
    "df.dropna(subset=['Type', 'Content Rating', 'Current Ver', 'Android Ver'], inplace=True)\n"
   ]
  },
  {
   "cell_type": "code",
   "execution_count": 27,
   "metadata": {},
   "outputs": [
    {
     "name": "stdout",
     "output_type": "stream",
     "text": [
      "App               0\n",
      "Category          0\n",
      "Rating            0\n",
      "Reviews           0\n",
      "Size              0\n",
      "Installs          0\n",
      "Type              0\n",
      "Price             0\n",
      "Content Rating    0\n",
      "Genres            0\n",
      "Last Updated      0\n",
      "Current Ver       0\n",
      "Android Ver       0\n",
      "dtype: int64\n"
     ]
    }
   ],
   "source": [
    "print(df.isnull().sum())\n"
   ]
  },
  {
   "cell_type": "markdown",
   "metadata": {},
   "source": [
    "### 3. Clean the Reviews Column and Make It Numeric\n",
    "\n",
    "You'll notice that some columns from this dataframe which should be numeric, were parsed as object (string). That's because sometimes the numbers are expressed with M, or k to indicate Mega or kilo.\n",
    "\n",
    "Clean the Reviews column by transforming the values to the correct numeric representation. \n",
    "\n",
    "For example, 5M should be 5000000."
   ]
  },
  {
   "cell_type": "code",
   "execution_count": 30,
   "metadata": {},
   "outputs": [],
   "source": [
    "\n",
    "df['Reviews'] = df['Reviews'].replace({'M': '*1e6', 'k': '*1e3'}, regex=True).map(pd.eval).astype(int)\n"
   ]
  },
  {
   "cell_type": "code",
   "execution_count": 31,
   "metadata": {},
   "outputs": [
    {
     "name": "stdout",
     "output_type": "stream",
     "text": [
      "int64\n",
      "0       159\n",
      "1       967\n",
      "2     87510\n",
      "3    215644\n",
      "4       967\n",
      "Name: Reviews, dtype: int64\n"
     ]
    }
   ],
   "source": [
    "print(df['Reviews'].dtype)  \n",
    "print(df['Reviews'].head()) "
   ]
  },
  {
   "cell_type": "markdown",
   "metadata": {},
   "source": [
    "### 4. Count the Number of Duplicated Apps\n",
    "\n",
    "Count the number of duplicated rows. That is, if the app Twitter appears 2 times, that counts as 2."
   ]
  },
  {
   "cell_type": "code",
   "execution_count": null,
   "metadata": {},
   "outputs": [
    {
     "name": "stdout",
     "output_type": "stream",
     "text": [
      "Number of duplicated apps: 1979\n"
     ]
    }
   ],
   "source": [
    "# All Duplicated Apps\n",
    "duplicateApps = df.duplicated(subset=['App'], keep=False).sum()\n",
    "print(\"Number of duplicated apps:\", duplicateApps)"
   ]
  },
  {
   "cell_type": "code",
   "execution_count": null,
   "metadata": {},
   "outputs": [
    {
     "name": "stdout",
     "output_type": "stream",
     "text": [
      "App\n",
      "ROBLOX                                               9\n",
      "CBS Sports App - Scores, News, Stats & Watch Live    8\n",
      "Duolingo: Learn Languages Free                       7\n",
      "Candy Crush Saga                                     7\n",
      "ESPN                                                 7\n",
      "                                                    ..\n",
      "CBS Sports Fantasy                                   2\n",
      "PMHNP-BC Pocket Prep                                 2\n",
      "Podcast App: Free & Offline Podcasts by Player FM    2\n",
      "Microsoft PowerPoint                                 2\n",
      "Coloring book moana                                  2\n",
      "Name: count, Length: 798, dtype: int64\n"
     ]
    }
   ],
   "source": [
    "# each app and how many times it duplicates\n",
    "appCounts = df['App'].value_counts()\n",
    "print(appCounts[appCounts > 1])\n"
   ]
  },
  {
   "cell_type": "markdown",
   "metadata": {},
   "source": [
    "### 5. Drop Duplicated Apps Keeping Only the Ones with the Greatest Number of Reviews\n",
    "\n",
    "Now that the Reviews column is numeric, we can use it to clean duplicated apps. Drop duplicated apps, keeping just one copy of each, the one with the greatest number of reviews.\n",
    "\n",
    "Hint: you'll need to sort the dataframe by App and Reviews, and that will change the order of your df."
   ]
  },
  {
   "cell_type": "code",
   "execution_count": null,
   "metadata": {},
   "outputs": [],
   "source": [
    "df = df.sort_values(by=['App', 'Reviews'], ascending=[True, False])"
   ]
  },
  {
   "cell_type": "code",
   "execution_count": 36,
   "metadata": {},
   "outputs": [
    {
     "name": "stdout",
     "output_type": "stream",
     "text": [
      "<class 'pandas.core.frame.DataFrame'>\n",
      "Index: 10829 entries, 8884 to 882\n",
      "Data columns (total 13 columns):\n",
      " #   Column          Non-Null Count  Dtype  \n",
      "---  ------          --------------  -----  \n",
      " 0   App             10829 non-null  object \n",
      " 1   Category        10829 non-null  object \n",
      " 2   Rating          10829 non-null  float64\n",
      " 3   Reviews         10829 non-null  int64  \n",
      " 4   Size            10829 non-null  object \n",
      " 5   Installs        10829 non-null  object \n",
      " 6   Type            10829 non-null  object \n",
      " 7   Price           10829 non-null  object \n",
      " 8   Content Rating  10829 non-null  object \n",
      " 9   Genres          10829 non-null  object \n",
      " 10  Last Updated    10829 non-null  object \n",
      " 11  Current Ver     10829 non-null  object \n",
      " 12  Android Ver     10829 non-null  object \n",
      "dtypes: float64(1), int64(1), object(11)\n",
      "memory usage: 1.2+ MB\n"
     ]
    }
   ],
   "source": [
    "df.info()"
   ]
  },
  {
   "cell_type": "code",
   "execution_count": 39,
   "metadata": {},
   "outputs": [
    {
     "name": "stdout",
     "output_type": "stream",
     "text": [
      "App\n",
      "【Miku AR Camera】Mikuture                  1\n",
      "► MultiCraft ― Free Miner! 👍              1\n",
      "သိင်္ Astrology - Min Thein Kha BayDin    1\n",
      "বাংলাflix                                 1\n",
      "বাংলা টিভি প্রো BD Bangla TV              1\n",
      "                                         ..\n",
      "/u/app                                    1\n",
      ".R                                        1\n",
      "- Free Comics - Comic Apps                1\n",
      "+Download 4 Instagram Twitter             1\n",
      "\"i DT\" Fútbol. Todos Somos Técnicos.      1\n",
      "Name: count, Length: 9648, dtype: int64\n"
     ]
    }
   ],
   "source": [
    "df = df.drop_duplicates(subset='App', keep='first')\n",
    "print(df['App'].value_counts())"
   ]
  },
  {
   "cell_type": "markdown",
   "metadata": {},
   "source": [
    "### 6. Format the Category Column\n",
    "\n",
    "Categories are all uppercase and words are separated using underscores. Instead, we want them with capitalized in the first character and the underscores transformed as whitespaces.\n",
    "\n",
    "Example, the category AUTO_AND_VEHICLES should be transformed to: Auto and vehicles. Also, if you find any other wrong value transform it into an Unknown category."
   ]
  },
  {
   "cell_type": "code",
   "execution_count": 40,
   "metadata": {},
   "outputs": [
    {
     "name": "stdout",
     "output_type": "stream",
     "text": [
      "['Sports' 'Social' 'Comics' 'Tools' 'Communication' 'News And Magazines'\n",
      " 'Health And Fitness' 'Family' 'Books And Reference' 'Lifestyle'\n",
      " 'Business' 'Shopping' 'Medical' 'Game' 'Finance' 'Personalization'\n",
      " 'Photography' 'Travel And Local' 'Dating' 'Productivity' 'Art And Design'\n",
      " 'Food And Drink' 'Video Players' 'House And Home' 'Maps And Navigation'\n",
      " 'Events' 'Education' 'Auto And Vehicles' 'Weather' 'Beauty'\n",
      " 'Entertainment' 'Libraries And Demo' 'Parenting']\n"
     ]
    }
   ],
   "source": [
    "df['Category'] = df['Category'].str.replace('_', ' ').str.title()\n",
    "validCategories = df['Category'].unique()  \n",
    "df.loc[~df['Category'].isin(validCategories), 'Category'] = 'Unknown Category'\n",
    "\n",
    "print(df['Category'].unique())"
   ]
  },
  {
   "cell_type": "markdown",
   "metadata": {},
   "source": [
    "### 7. Clean and Convert the Installs Column to Numeric Type\n",
    "\n",
    "Clean and transform Installs as a numeric type. Some values in Installs will have a + modifier. Just remove the string and honor the original number (for example +2,500 or 2,500+ should be transformed to the number 2500)."
   ]
  },
  {
   "cell_type": "code",
   "execution_count": 46,
   "metadata": {},
   "outputs": [
    {
     "name": "stdout",
     "output_type": "stream",
     "text": [
      "8884          500\n",
      "8532      1000000\n",
      "324         10000\n",
      "4541        10000\n",
      "4636        10000\n",
      "5940          100\n",
      "10252      100000\n",
      "1393       500000\n",
      "8483       100000\n",
      "7738          100\n",
      "8219          500\n",
      "9401     10000000\n",
      "4030         5000\n",
      "8703        10000\n",
      "4026        50000\n",
      "220       1000000\n",
      "2694     10000000\n",
      "5344        50000\n",
      "2483            5\n",
      "6760         1000\n",
      "Name: Installs, dtype: int64\n"
     ]
    }
   ],
   "source": [
    "df['Installs'] = df['Installs'].astype(str)\n",
    "df['Installs'] = df['Installs'].str.replace('+', '', regex=False)  #remove \"+\"\n",
    "df['Installs'] = df['Installs'].str.replace(',', '', regex=False)  # remove \",\"\n",
    "df['Installs'] = pd.to_numeric(df['Installs'], errors='coerce')  #convert to numbers\n",
    "\n",
    "print(df['Installs'].head(20))"
   ]
  },
  {
   "cell_type": "markdown",
   "metadata": {},
   "source": [
    "### 8. Clean and Convert the Size Column to Numeric (Representing Bytes)\n",
    "\n",
    "The Size column is of type object. Some values contain either a M or a k that indicate Kilobytes (1024 bytes) or Megabytes (1024 kb). These values should be transformed to their corresponding value in bytes. For example, 898k will become 919552 (898 * 1024).\n",
    "\n",
    "Some other values are completely invalid (there's no way to infer the numeric type from them). For these, just replace the value for 0.\n",
    "\n",
    "Some other rules are related to + modifiers, apply the same rules as the previous task."
   ]
  },
  {
   "cell_type": "code",
   "execution_count": 48,
   "metadata": {},
   "outputs": [
    {
     "name": "stdout",
     "output_type": "stream",
     "text": [
      "           Size\n",
      "8884    3774873\n",
      "8532   23068672\n",
      "324     9542041\n",
      "4541     207872\n",
      "4636   55574528\n",
      "5940   14680064\n",
      "10252  42991616\n",
      "1393    3984588\n",
      "8483   50331648\n",
      "7738    3984588\n"
     ]
    },
    {
     "name": "stderr",
     "output_type": "stream",
     "text": [
      "C:\\Users\\Basmala\\AppData\\Local\\Temp\\ipykernel_15416\\1953561183.py:21: FutureWarning: A value is trying to be set on a copy of a DataFrame or Series through chained assignment using an inplace method.\n",
      "The behavior will change in pandas 3.0. This inplace method will never work because the intermediate object on which we are setting values always behaves as a copy.\n",
      "\n",
      "For example, when doing 'df[col].method(value, inplace=True)', try using 'df.method({col: value}, inplace=True)' or df[col] = df[col].method(value) instead, to perform the operation inplace on the original object.\n",
      "\n",
      "\n",
      "  df['Size_value'].fillna(0, inplace=True)\n"
     ]
    }
   ],
   "source": [
    "df['Size'] = df['Size'].astype(str)  \n",
    "df['Size'] = df['Size'].str.replace('+', '', regex=False)  \n",
    "df['Size'] = df['Size'].str.replace(',', '', regex=False) \n",
    "\n",
    "df[['Size_value', 'Size_unit']] = df['Size'].str.extract(r'([\\d\\.]+)([Mk]?)')\n",
    "# ([\\d\\.]+)\n",
    "# \\d  → Matches any digit (0-9).\n",
    "# \\.  → Matches the decimal point (to handle values like 1.5M).\n",
    "# +   → Matches one or more digits or decimal points (e.gو \"1.5\" or \"1000\").\n",
    "# ➝ This is stored in the 'Size_value' column.\n",
    "# \n",
    "# ([Mk]?)\n",
    "# [Mk] → Matches either 'M' (Megabytes) or 'k' (Kilobytes) if present.\n",
    "# # (?)   → Makes the presence of 'M' or 'k' optional (some values might be plain numbers like \"100\").\n",
    "\n",
    "df['Size_value'] = pd.to_numeric(df['Size_value'], errors='coerce')\n",
    "\n",
    "df.loc[df['Size_unit'] == 'M', 'Size_value'] *= 1024 * 1024  # 1M = 1024 KB * 1024 B\n",
    "df.loc[df['Size_unit'] == 'k', 'Size_value'] *= 1024  # 1k = 1024 B\n",
    "\n",
    "df['Size_value'].fillna(0, inplace=True)\n",
    "\n",
    "\n",
    "df['Size'] = df['Size_value'].astype(int)\n",
    "\n",
    "df.drop(columns=['Size_value', 'Size_unit'], inplace=True)\n",
    "print(df[['Size']].head(10))"
   ]
  },
  {
   "cell_type": "markdown",
   "metadata": {},
   "source": [
    "### 9. Clean and Convert the Price Column to Numeric\n",
    "\n",
    "Values of the Price column are strings representing price with special symbol '$'."
   ]
  },
  {
   "cell_type": "code",
   "execution_count": null,
   "metadata": {},
   "outputs": [
    {
     "name": "stdout",
     "output_type": "stream",
     "text": [
      "       Price\n",
      "8884    0.00\n",
      "8532    0.00\n",
      "324     0.00\n",
      "4541    0.00\n",
      "4636    0.00\n",
      "5940    0.00\n",
      "10252   0.00\n",
      "1393    0.00\n",
      "8483    0.00\n",
      "7738    1.49\n",
      "8219    0.99\n",
      "9401    0.00\n",
      "4030    0.00\n",
      "8703    0.00\n",
      "4026    0.00\n",
      "220     0.00\n",
      "2694    0.00\n",
      "5344    0.00\n",
      "2483    0.00\n",
      "6760    3.08\n"
     ]
    }
   ],
   "source": [
    "\n",
    "df['Price'] = df['Price'].astype(str)\n",
    "df['Price'] = df['Price'].str.replace('$', '', regex=False)\n",
    "\n",
    "df['Price'] = pd.to_numeric(df['Price'], errors='coerce')\n",
    "\n",
    "df['Price'].fillna(0, inplace=True)\n",
    "print(df[['Price']].head(20))"
   ]
  },
  {
   "cell_type": "markdown",
   "metadata": {},
   "source": [
    "### 10. Paid or Free?\n",
    "\n",
    "Now that you have cleaned the Price column, let's create another auxiliary Distribution column.\n",
    "\n",
    "This column should contain Free/Paid values depending on the app's price."
   ]
  },
  {
   "cell_type": "code",
   "execution_count": 53,
   "metadata": {},
   "outputs": [
    {
     "name": "stdout",
     "output_type": "stream",
     "text": [
      "       Price Distribution\n",
      "8884    0.00         Free\n",
      "8532    0.00         Free\n",
      "324     0.00         Free\n",
      "4541    0.00         Free\n",
      "4636    0.00         Free\n",
      "5940    0.00         Free\n",
      "10252   0.00         Free\n",
      "1393    0.00         Free\n",
      "8483    0.00         Free\n",
      "7738    1.49         Paid\n"
     ]
    }
   ],
   "source": [
    "\n",
    "df['Distribution'] = df['Price'].apply(lambda x: 'Paid' if x > 0 else 'Free')\n",
    "print(df[['Price', 'Distribution']].head(10))\n"
   ]
  },
  {
   "cell_type": "code",
   "execution_count": 54,
   "metadata": {},
   "outputs": [
    {
     "name": "stdout",
     "output_type": "stream",
     "text": [
      "Distribution\n",
      "Free    8897\n",
      "Paid     751\n",
      "Name: count, dtype: int64\n"
     ]
    }
   ],
   "source": [
    "print(df['Distribution'].value_counts())"
   ]
  },
  {
   "cell_type": "markdown",
   "metadata": {},
   "source": [
    "## Finally!!! \n",
    "- Now all is left is to save the new dataframe we made into a new csv file called `filteredplaystore.csv`"
   ]
  },
  {
   "cell_type": "code",
   "execution_count": 56,
   "metadata": {},
   "outputs": [],
   "source": [
    "df.to_csv('filteredplaystore.csv', index=False)\n"
   ]
  },
  {
   "cell_type": "code",
   "execution_count": null,
   "metadata": {},
   "outputs": [
    {
     "name": "stdout",
     "output_type": "stream",
     "text": [
      "                                    App       Category    Rating  Reviews  \\\n",
      "0  \"i DT\" Fútbol. Todos Somos Técnicos.         Sports  4.191757       27   \n",
      "1         +Download 4 Instagram Twitter         Social  4.500000    40467   \n",
      "2            - Free Comics - Comic Apps         Comics  3.500000      115   \n",
      "3                                    .R          Tools  4.500000      259   \n",
      "4                                /u/app  Communication  4.700000      573   \n",
      "\n",
      "       Size  Installs  Type  Price Content Rating         Genres  \\\n",
      "0   3774873       500  Free    0.0       Everyone         Sports   \n",
      "1  23068672   1000000  Free    0.0       Everyone         Social   \n",
      "2   9542041     10000  Free    0.0     Mature 17+         Comics   \n",
      "3    207872     10000  Free    0.0       Everyone          Tools   \n",
      "4  55574528     10000  Free    0.0     Mature 17+  Communication   \n",
      "\n",
      "         Last Updated Current Ver Android Ver Distribution  \n",
      "0     October 7, 2017        0.22  4.1 and up         Free  \n",
      "1      August 2, 2018        5.03  4.1 and up         Free  \n",
      "2       July 13, 2018      5.0.12  5.0 and up         Free  \n",
      "3  September 16, 2014      1.1.06  1.5 and up         Free  \n",
      "4        July 3, 2018       4.2.4  4.1 and up         Free  \n"
     ]
    }
   ],
   "source": [
    "df_check = pd.read_csv('filteredplaystore.csv')\n",
    "print(df_check.head())"
   ]
  }
 ],
 "metadata": {
  "kernelspec": {
   "display_name": "Python 3",
   "language": "python",
   "name": "python3"
  },
  "language_info": {
   "codemirror_mode": {
    "name": "ipython",
    "version": 3
   },
   "file_extension": ".py",
   "mimetype": "text/x-python",
   "name": "python",
   "nbconvert_exporter": "python",
   "pygments_lexer": "ipython3",
   "version": "3.13.2"
  }
 },
 "nbformat": 4,
 "nbformat_minor": 2
}
