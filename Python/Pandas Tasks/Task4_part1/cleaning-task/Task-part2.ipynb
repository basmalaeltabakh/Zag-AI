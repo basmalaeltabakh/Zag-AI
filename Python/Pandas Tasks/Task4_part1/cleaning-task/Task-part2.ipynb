{
 "cells": [
  {
   "cell_type": "markdown",
   "metadata": {},
   "source": [
    "![image.jpeg](PlayStore.jpeg)"
   ]
  },
  {
   "cell_type": "markdown",
   "metadata": {},
   "source": [
    "## Analysis And Visualizations\n",
    "**Remember the csv file you created in the last task ? Now it's time to use it for some analysis and visualizations**\n",
    "\n",
    "**Note: each question will be answered into 2 parts first your analysis using pandas and then use visualizations to prove it**"
   ]
  },
  {
   "cell_type": "markdown",
   "metadata": {},
   "source": [
    "### 11. Which app has the greatest number of reviews?"
   ]
  },
  {
   "cell_type": "code",
   "execution_count": null,
   "metadata": {},
   "outputs": [],
   "source": []
  },
  {
   "cell_type": "markdown",
   "metadata": {},
   "source": [
    "### 12. What Category Has the Highest Number of Apps Uploaded to the Store?\n",
    "\n",
    "Get the specific category that contains the most significant number of uploaded applications."
   ]
  },
  {
   "cell_type": "code",
   "execution_count": null,
   "metadata": {},
   "outputs": [],
   "source": []
  },
  {
   "cell_type": "markdown",
   "metadata": {},
   "source": [
    "### 13. To Which Category Belongs the Most Expensive App?"
   ]
  },
  {
   "cell_type": "code",
   "execution_count": null,
   "metadata": {},
   "outputs": [],
   "source": []
  },
  {
   "cell_type": "markdown",
   "metadata": {},
   "source": [
    "### 14. What's the Name of the Most Expensive Game?\n",
    "\n",
    "Find the most expensive app in the Game category and enter its name."
   ]
  },
  {
   "cell_type": "code",
   "execution_count": null,
   "metadata": {},
   "outputs": [],
   "source": []
  },
  {
   "cell_type": "markdown",
   "metadata": {},
   "source": [
    "### 15. Which Is the Most Popular Finance App?\n",
    "\n",
    "What app (from the Finance category) has the most installs?"
   ]
  },
  {
   "cell_type": "code",
   "execution_count": null,
   "metadata": {},
   "outputs": [],
   "source": []
  },
  {
   "cell_type": "markdown",
   "metadata": {},
   "source": [
    "### 16. What Teen Game Has the Most Reviews?\n",
    "\n",
    "What app from the Game category and catalogued as Teen in Content Rating has the most reviews?"
   ]
  },
  {
   "cell_type": "code",
   "execution_count": null,
   "metadata": {},
   "outputs": [],
   "source": []
  },
  {
   "cell_type": "markdown",
   "metadata": {},
   "source": [
    "### 17. Which Is the Free Game with the Most Reviews?\n",
    "\n",
    " Get the name of the free game app with the most reviews."
   ]
  },
  {
   "cell_type": "code",
   "execution_count": null,
   "metadata": {},
   "outputs": [],
   "source": []
  },
  {
   "cell_type": "markdown",
   "metadata": {},
   "source": [
    "### 18. How many Tb (tebibytes) were transferred (overall) for the most popular Lifestyle app?\n",
    "\n",
    "This app produced the greatest amount of bytes transfer. Enter your answer in Tebibytes as a whole number (rounding down to the nearest integer). Example, if you find the total transfer to be 780.9581 Tb, just enter 780.\n",
    "\n",
    "- Find the total size by multiplying size of the app with total installs and convert the result into TB."
   ]
  },
  {
   "cell_type": "code",
   "execution_count": null,
   "metadata": {},
   "outputs": [],
   "source": []
  }
 ],
 "metadata": {
  "kernelspec": {
   "display_name": "Python 3",
   "language": "python",
   "name": "python3"
  },
  "language_info": {
   "codemirror_mode": {
    "name": "ipython",
    "version": 3
   },
   "file_extension": ".py",
   "mimetype": "text/x-python",
   "name": "python",
   "nbconvert_exporter": "python",
   "pygments_lexer": "ipython3",
   "version": "3.12.5"
  }
 },
 "nbformat": 4,
 "nbformat_minor": 2
}
